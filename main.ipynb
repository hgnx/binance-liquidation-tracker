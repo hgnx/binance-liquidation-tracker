{
 "cells": [
  {
   "cell_type": "code",
   "execution_count": null,
   "metadata": {},
   "outputs": [],
   "source": [
    "import websocket\n",
    "import json\n",
    "import pandas as pd\n",
    "import pytz"
   ]
  },
  {
   "cell_type": "code",
   "execution_count": null,
   "metadata": {},
   "outputs": [],
   "source": [
    "socket                          = 'wss://fstream.binance.com/ws/!forceOrder@arr'"
   ]
  },
  {
   "cell_type": "code",
   "execution_count": null,
   "metadata": {},
   "outputs": [],
   "source": [
    "'''\n",
    "No filters:\n",
    "minimum_total_dollars           = 0\n",
    "set_ticker                      = None\n",
    "\n",
    "For \"minimum_total_dollars\", it must be set to an integer value. Prints only values that are liquidated above that value.\n",
    "For \"set_ticker\", it must be set as a list. Prints only the liquidation value of the ticker.\n",
    "\n",
    "Example:\n",
    "minimum_total_dollars           = 100\n",
    "set_ticker                      = ['BTCUSDT, 'ETHUSDT', 'XRPUSDT', 'ADAUSDT', 'DOGEUSDT']\n",
    "'''\n",
    "\n",
    "minimum_total_dollars           = 0\n",
    "set_ticker                      = None"
   ]
  },
  {
   "cell_type": "code",
   "execution_count": null,
   "metadata": {},
   "outputs": [],
   "source": [
    "df                              = pd.DataFrame(columns=['Symbol', 'Side', 'Price',\n",
    "                                                        'Quantity', 'Total($)', 'Trade Time'])\n",
    "def on_message(ws, message):\n",
    "    data                        = json.loads(message)\n",
    "    order_data                  = data['o']\n",
    "\n",
    "    trade_time                  = pd.to_datetime(order_data['T'], unit='ms', utc=True)\n",
    "    tz                          = pytz.timezone('Asia/Seoul')\n",
    "    trade_time                  = trade_time.tz_convert(tz)\n",
    "\n",
    "    new_row                     = {\n",
    "        'Symbol'                : order_data['s'],\n",
    "        'Side'                  : order_data['S'],\n",
    "        'Price'                 : float(order_data['p']),\n",
    "        'Quantity'              : float(order_data['q']),\n",
    "        'Total($)'              : round(float(order_data['p']) * float(order_data['q']), 2),\n",
    "        'Trade Time'            : trade_time.strftime('%Y-%m-%d %H:%M:%S')\n",
    "    }\n",
    "\n",
    "    global df\n",
    "    if (set_ticker is None or new_row['Symbol'] in set_ticker) and \\\n",
    "    (minimum_total_dollars is None or new_row['Total($)'] >= minimum_total_dollars):\n",
    "        df                      = pd.concat([pd.DataFrame(new_row, index=[0]), df]).reset_index(drop=True)\n",
    "        print(df)\n",
    "        print(\"\")\n",
    "    else:\n",
    "        print(\"Error: Please check the filter.\")\n",
    "\n",
    "\n",
    "def on_error(ws, error):\n",
    "    print('Error:', error)\n",
    "\n",
    "\n",
    "def on_close(ws):\n",
    "    print('Connection closed')\n",
    "\n",
    "\n",
    "def on_open(ws):\n",
    "    print('Connection opened')"
   ]
  },
  {
   "cell_type": "code",
   "execution_count": null,
   "metadata": {},
   "outputs": [],
   "source": [
    "ws                              = websocket.WebSocketApp(socket,\n",
    "                                                        on_message=on_message,\n",
    "                                                        on_error=on_error,\n",
    "                                                        on_close=on_close)\n",
    "ws.on_open                      = on_open\n",
    "ws.run_forever()"
   ]
  }
 ],
 "metadata": {
  "kernelspec": {
   "display_name": "CRYPTO",
   "language": "python",
   "name": "python3"
  },
  "language_info": {
   "codemirror_mode": {
    "name": "ipython",
    "version": 3
   },
   "file_extension": ".py",
   "mimetype": "text/x-python",
   "name": "python",
   "nbconvert_exporter": "python",
   "pygments_lexer": "ipython3",
   "version": "3.9.7"
  },
  "orig_nbformat": 4
 },
 "nbformat": 4,
 "nbformat_minor": 2
}
